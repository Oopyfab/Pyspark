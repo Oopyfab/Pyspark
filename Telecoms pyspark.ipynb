{
 "cells": [
  {
   "cell_type": "code",
   "execution_count": 1,
   "id": "5a878fc6",
   "metadata": {},
   "outputs": [],
   "source": [
    "from pyspark.sql import SparkSession"
   ]
  },
  {
   "cell_type": "code",
   "execution_count": 2,
   "id": "ef590f0c",
   "metadata": {},
   "outputs": [],
   "source": [
    "spark=SparkSession.builder.appName('Dataframe').getOrCreate()"
   ]
  },
  {
   "cell_type": "code",
   "execution_count": 3,
   "id": "653c8e34",
   "metadata": {},
   "outputs": [],
   "source": [
    "# To import our dataset\n",
    "df= spark.read.option('header','true').csv('Tele Churn-Dataset.csv', inferSchema=True)"
   ]
  },
  {
   "cell_type": "code",
   "execution_count": 4,
   "id": "01791b5e",
   "metadata": {},
   "outputs": [
    {
     "name": "stdout",
     "output_type": "stream",
     "text": [
      "+----------+------+-------------+-------+----------+------+------------+----------------+---------------+--------------+------------+----------------+-----------+-----------+---------------+--------------+----------------+----------------+--------------+------------+---------------+--------------+-----+\n",
      "|customerID|gender|SeniorCitizen|Partner|Dependents|tenure|PhoneService|   MultipleLines|InternetService|OnlineSecurity|OnlineBackup|DeviceProtection|TechSupport|StreamingTV|StreamingMovies|      Contract|PaperlessBilling|   PaymentMethod|MonthlyCharges|TotalCharges|numAdminTickets|numTechTickets|Churn|\n",
      "+----------+------+-------------+-------+----------+------+------------+----------------+---------------+--------------+------------+----------------+-----------+-----------+---------------+--------------+----------------+----------------+--------------+------------+---------------+--------------+-----+\n",
      "|7590-VHVEG|Female|            0|    Yes|        No|     1|          No|No phone service|            DSL|            No|         Yes|              No|         No|         No|             No|Month-to-month|             Yes|Electronic check|         29.85|       29.85|              0|             0|   No|\n",
      "|5575-GNVDE|  Male|            0|     No|        No|    34|         Yes|              No|            DSL|           Yes|          No|             Yes|         No|         No|             No|      One year|              No|    Mailed check|         56.95|      1889.5|              0|             0|   No|\n",
      "|3668-QPYBK|  Male|            0|     No|        No|     2|         Yes|              No|            DSL|           Yes|         Yes|              No|         No|         No|             No|Month-to-month|             Yes|    Mailed check|         53.85|      108.15|              0|             0|  Yes|\n",
      "+----------+------+-------------+-------+----------+------+------------+----------------+---------------+--------------+------------+----------------+-----------+-----------+---------------+--------------+----------------+----------------+--------------+------------+---------------+--------------+-----+\n",
      "only showing top 3 rows\n",
      "\n"
     ]
    }
   ],
   "source": [
    "# To display the first three rows\n",
    "df.show(3)"
   ]
  },
  {
   "cell_type": "code",
   "execution_count": 5,
   "id": "78845522",
   "metadata": {},
   "outputs": [
    {
     "name": "stdout",
     "output_type": "stream",
     "text": [
      "root\n",
      " |-- customerID: string (nullable = true)\n",
      " |-- gender: string (nullable = true)\n",
      " |-- SeniorCitizen: integer (nullable = true)\n",
      " |-- Partner: string (nullable = true)\n",
      " |-- Dependents: string (nullable = true)\n",
      " |-- tenure: integer (nullable = true)\n",
      " |-- PhoneService: string (nullable = true)\n",
      " |-- MultipleLines: string (nullable = true)\n",
      " |-- InternetService: string (nullable = true)\n",
      " |-- OnlineSecurity: string (nullable = true)\n",
      " |-- OnlineBackup: string (nullable = true)\n",
      " |-- DeviceProtection: string (nullable = true)\n",
      " |-- TechSupport: string (nullable = true)\n",
      " |-- StreamingTV: string (nullable = true)\n",
      " |-- StreamingMovies: string (nullable = true)\n",
      " |-- Contract: string (nullable = true)\n",
      " |-- PaperlessBilling: string (nullable = true)\n",
      " |-- PaymentMethod: string (nullable = true)\n",
      " |-- MonthlyCharges: double (nullable = true)\n",
      " |-- TotalCharges: string (nullable = true)\n",
      " |-- numAdminTickets: integer (nullable = true)\n",
      " |-- numTechTickets: integer (nullable = true)\n",
      " |-- Churn: string (nullable = true)\n",
      "\n"
     ]
    }
   ],
   "source": [
    "# To check for dataset info\n",
    "df.printSchema()"
   ]
  },
  {
   "cell_type": "code",
   "execution_count": 7,
   "id": "8794a6a2",
   "metadata": {},
   "outputs": [
    {
     "name": "stdout",
     "output_type": "stream",
     "text": [
      "['customerID', 'gender', 'SeniorCitizen', 'Partner', 'Dependents', 'tenure', 'PhoneService', 'MultipleLines', 'InternetService', 'OnlineSecurity', 'OnlineBackup', 'DeviceProtection', 'TechSupport', 'StreamingTV', 'StreamingMovies', 'Contract', 'PaperlessBilling', 'PaymentMethod', 'MonthlyCharges', 'TotalCharges', 'numAdminTickets', 'numTechTickets', 'Churn']\n"
     ]
    }
   ],
   "source": [
    "# To check columns in our dataset\n",
    "print(df.columns)"
   ]
  },
  {
   "cell_type": "code",
   "execution_count": 6,
   "id": "723d3965",
   "metadata": {},
   "outputs": [
    {
     "name": "stdout",
     "output_type": "stream",
     "text": [
      "+----------+------+-------------+-------+----------+------+------------+-------------+---------------+--------------+------------+----------------+-----------+-----------+---------------+--------+----------------+-------------+--------------+------------+---------------+--------------+-----+\n",
      "|customerID|gender|SeniorCitizen|Partner|Dependents|tenure|PhoneService|MultipleLines|InternetService|OnlineSecurity|OnlineBackup|DeviceProtection|TechSupport|StreamingTV|StreamingMovies|Contract|PaperlessBilling|PaymentMethod|MonthlyCharges|TotalCharges|numAdminTickets|numTechTickets|Churn|\n",
      "+----------+------+-------------+-------+----------+------+------------+-------------+---------------+--------------+------------+----------------+-----------+-----------+---------------+--------+----------------+-------------+--------------+------------+---------------+--------------+-----+\n",
      "|         0|     0|            0|      0|         0|     0|           0|            0|              0|             0|           0|               0|          0|          0|              0|       0|               0|            0|             0|           0|              0|             0|    0|\n",
      "+----------+------+-------------+-------+----------+------+------------+-------------+---------------+--------------+------------+----------------+-----------+-----------+---------------+--------+----------------+-------------+--------------+------------+---------------+--------------+-----+\n",
      "\n"
     ]
    }
   ],
   "source": [
    "# To check for missing values\n",
    "from pyspark.sql.functions import col, sum\n",
    "missing_values = df.select(*[sum(col(column).isNull().cast(\"int\")).alias(column) for column in df.columns])\n",
    "missing_values.show()"
   ]
  },
  {
   "cell_type": "code",
   "execution_count": 8,
   "id": "51445f2e",
   "metadata": {},
   "outputs": [],
   "source": [
    "# To change datatype from integer to string\n",
    "df = df.withColumn(\"SeniorCitizen\", col(\"SeniorCitizen\").cast(\"string\"))"
   ]
  },
  {
   "cell_type": "code",
   "execution_count": 9,
   "id": "67510b97",
   "metadata": {},
   "outputs": [
    {
     "data": {
      "text/plain": [
       "[('SeniorCitizen', 'string')]"
      ]
     },
     "execution_count": 9,
     "metadata": {},
     "output_type": "execute_result"
    }
   ],
   "source": [
    "# To check if has been converted\n",
    "df.select('SeniorCitizen').dtypes"
   ]
  },
  {
   "cell_type": "code",
   "execution_count": 10,
   "id": "1ab75828",
   "metadata": {},
   "outputs": [
    {
     "data": {
      "text/plain": [
       "[('TotalCharges', 'float')]"
      ]
     },
     "execution_count": 10,
     "metadata": {},
     "output_type": "execute_result"
    }
   ],
   "source": [
    "# To convert string to float\n",
    "df = df.withColumn('TotalCharges', col('TotalCharges').cast('float'))\n",
    "df.select('TotalCharges').dtypes"
   ]
  },
  {
   "cell_type": "code",
   "execution_count": 11,
   "id": "a73cf40b",
   "metadata": {},
   "outputs": [
    {
     "data": {
      "text/html": [
       "<div>\n",
       "<style scoped>\n",
       "    .dataframe tbody tr th:only-of-type {\n",
       "        vertical-align: middle;\n",
       "    }\n",
       "\n",
       "    .dataframe tbody tr th {\n",
       "        vertical-align: top;\n",
       "    }\n",
       "\n",
       "    .dataframe thead th {\n",
       "        text-align: right;\n",
       "    }\n",
       "</style>\n",
       "<table border=\"1\" class=\"dataframe\">\n",
       "  <thead>\n",
       "    <tr style=\"text-align: right;\">\n",
       "      <th></th>\n",
       "      <th>summary</th>\n",
       "      <th>customerID</th>\n",
       "      <th>gender</th>\n",
       "      <th>SeniorCitizen</th>\n",
       "      <th>Partner</th>\n",
       "      <th>Dependents</th>\n",
       "      <th>tenure</th>\n",
       "      <th>PhoneService</th>\n",
       "      <th>MultipleLines</th>\n",
       "      <th>InternetService</th>\n",
       "      <th>...</th>\n",
       "      <th>StreamingTV</th>\n",
       "      <th>StreamingMovies</th>\n",
       "      <th>Contract</th>\n",
       "      <th>PaperlessBilling</th>\n",
       "      <th>PaymentMethod</th>\n",
       "      <th>MonthlyCharges</th>\n",
       "      <th>TotalCharges</th>\n",
       "      <th>numAdminTickets</th>\n",
       "      <th>numTechTickets</th>\n",
       "      <th>Churn</th>\n",
       "    </tr>\n",
       "  </thead>\n",
       "  <tbody>\n",
       "    <tr>\n",
       "      <th>0</th>\n",
       "      <td>count</td>\n",
       "      <td>7043</td>\n",
       "      <td>7043</td>\n",
       "      <td>7043</td>\n",
       "      <td>7043</td>\n",
       "      <td>7043</td>\n",
       "      <td>7043</td>\n",
       "      <td>7043</td>\n",
       "      <td>7043</td>\n",
       "      <td>7043</td>\n",
       "      <td>...</td>\n",
       "      <td>7043</td>\n",
       "      <td>7043</td>\n",
       "      <td>7043</td>\n",
       "      <td>7043</td>\n",
       "      <td>7043</td>\n",
       "      <td>7043</td>\n",
       "      <td>7032</td>\n",
       "      <td>7043</td>\n",
       "      <td>7043</td>\n",
       "      <td>7043</td>\n",
       "    </tr>\n",
       "    <tr>\n",
       "      <th>1</th>\n",
       "      <td>mean</td>\n",
       "      <td>None</td>\n",
       "      <td>None</td>\n",
       "      <td>0.1621468124378816</td>\n",
       "      <td>None</td>\n",
       "      <td>None</td>\n",
       "      <td>32.37114865824223</td>\n",
       "      <td>None</td>\n",
       "      <td>None</td>\n",
       "      <td>None</td>\n",
       "      <td>...</td>\n",
       "      <td>None</td>\n",
       "      <td>None</td>\n",
       "      <td>None</td>\n",
       "      <td>None</td>\n",
       "      <td>None</td>\n",
       "      <td>64.76169246059922</td>\n",
       "      <td>2283.300441385536</td>\n",
       "      <td>0.5156893369302854</td>\n",
       "      <td>0.41956552605423825</td>\n",
       "      <td>None</td>\n",
       "    </tr>\n",
       "    <tr>\n",
       "      <th>2</th>\n",
       "      <td>stddev</td>\n",
       "      <td>None</td>\n",
       "      <td>None</td>\n",
       "      <td>0.3686116056100135</td>\n",
       "      <td>None</td>\n",
       "      <td>None</td>\n",
       "      <td>24.559481023094442</td>\n",
       "      <td>None</td>\n",
       "      <td>None</td>\n",
       "      <td>None</td>\n",
       "      <td>...</td>\n",
       "      <td>None</td>\n",
       "      <td>None</td>\n",
       "      <td>None</td>\n",
       "      <td>None</td>\n",
       "      <td>None</td>\n",
       "      <td>30.090047097678482</td>\n",
       "      <td>2266.771363107635</td>\n",
       "      <td>1.275298736979496</td>\n",
       "      <td>1.250116942584854</td>\n",
       "      <td>None</td>\n",
       "    </tr>\n",
       "    <tr>\n",
       "      <th>3</th>\n",
       "      <td>min</td>\n",
       "      <td>0002-ORFBO</td>\n",
       "      <td>Female</td>\n",
       "      <td>0</td>\n",
       "      <td>No</td>\n",
       "      <td>No</td>\n",
       "      <td>0</td>\n",
       "      <td>No</td>\n",
       "      <td>No</td>\n",
       "      <td>DSL</td>\n",
       "      <td>...</td>\n",
       "      <td>No</td>\n",
       "      <td>No</td>\n",
       "      <td>Month-to-month</td>\n",
       "      <td>No</td>\n",
       "      <td>Bank transfer (automatic)</td>\n",
       "      <td>18.25</td>\n",
       "      <td>18.8</td>\n",
       "      <td>0</td>\n",
       "      <td>0</td>\n",
       "      <td>No</td>\n",
       "    </tr>\n",
       "    <tr>\n",
       "      <th>4</th>\n",
       "      <td>max</td>\n",
       "      <td>9995-HOTOH</td>\n",
       "      <td>Male</td>\n",
       "      <td>1</td>\n",
       "      <td>Yes</td>\n",
       "      <td>Yes</td>\n",
       "      <td>72</td>\n",
       "      <td>Yes</td>\n",
       "      <td>Yes</td>\n",
       "      <td>No</td>\n",
       "      <td>...</td>\n",
       "      <td>Yes</td>\n",
       "      <td>Yes</td>\n",
       "      <td>Two year</td>\n",
       "      <td>Yes</td>\n",
       "      <td>Mailed check</td>\n",
       "      <td>118.75</td>\n",
       "      <td>8684.8</td>\n",
       "      <td>5</td>\n",
       "      <td>9</td>\n",
       "      <td>Yes</td>\n",
       "    </tr>\n",
       "  </tbody>\n",
       "</table>\n",
       "<p>5 rows × 24 columns</p>\n",
       "</div>"
      ],
      "text/plain": [
       "  summary  customerID  gender       SeniorCitizen Partner Dependents  \\\n",
       "0   count        7043    7043                7043    7043       7043   \n",
       "1    mean        None    None  0.1621468124378816    None       None   \n",
       "2  stddev        None    None  0.3686116056100135    None       None   \n",
       "3     min  0002-ORFBO  Female                   0      No         No   \n",
       "4     max  9995-HOTOH    Male                   1     Yes        Yes   \n",
       "\n",
       "               tenure PhoneService MultipleLines InternetService  ...  \\\n",
       "0                7043         7043          7043            7043  ...   \n",
       "1   32.37114865824223         None          None            None  ...   \n",
       "2  24.559481023094442         None          None            None  ...   \n",
       "3                   0           No            No             DSL  ...   \n",
       "4                  72          Yes           Yes              No  ...   \n",
       "\n",
       "  StreamingTV StreamingMovies        Contract PaperlessBilling  \\\n",
       "0        7043            7043            7043             7043   \n",
       "1        None            None            None             None   \n",
       "2        None            None            None             None   \n",
       "3          No              No  Month-to-month               No   \n",
       "4         Yes             Yes        Two year              Yes   \n",
       "\n",
       "               PaymentMethod      MonthlyCharges       TotalCharges  \\\n",
       "0                       7043                7043               7032   \n",
       "1                       None   64.76169246059922  2283.300441385536   \n",
       "2                       None  30.090047097678482  2266.771363107635   \n",
       "3  Bank transfer (automatic)               18.25               18.8   \n",
       "4               Mailed check              118.75             8684.8   \n",
       "\n",
       "      numAdminTickets       numTechTickets Churn  \n",
       "0                7043                 7043  7043  \n",
       "1  0.5156893369302854  0.41956552605423825  None  \n",
       "2   1.275298736979496    1.250116942584854  None  \n",
       "3                   0                    0    No  \n",
       "4                   5                    9   Yes  \n",
       "\n",
       "[5 rows x 24 columns]"
      ]
     },
     "execution_count": 11,
     "metadata": {},
     "output_type": "execute_result"
    }
   ],
   "source": [
    "# To check the summary statistic of numeric columns\n",
    "df.describe().toPandas()"
   ]
  },
  {
   "cell_type": "code",
   "execution_count": 12,
   "id": "5083e609",
   "metadata": {},
   "outputs": [],
   "source": [
    "# dropped unwanted columns\n",
    "df = df[['gender', 'SeniorCitizen', 'Partner', 'tenure', 'PhoneService', 'MultipleLines', 'InternetService', \n",
    "         'OnlineSecurity', 'OnlineBackup', 'TechSupport', 'StreamingTV',\n",
    "         'StreamingMovies', 'Contract', 'PaperlessBilling', 'PaymentMethod', 'MonthlyCharges',\n",
    "         'TotalCharges', 'numAdminTickets', 'numTechTickets', 'Churn']]"
   ]
  },
  {
   "cell_type": "code",
   "execution_count": 13,
   "id": "4fb78343",
   "metadata": {},
   "outputs": [
    {
     "name": "stdout",
     "output_type": "stream",
     "text": [
      "+------------+------------+------------+------------+------------+------------+------------+------------+------------+------------+------------+------------+------------+------------+------------+------------+------------+------------+------------+------------+\n",
      "|TotalCharges|TotalCharges|TotalCharges|TotalCharges|TotalCharges|TotalCharges|TotalCharges|TotalCharges|TotalCharges|TotalCharges|TotalCharges|TotalCharges|TotalCharges|TotalCharges|TotalCharges|TotalCharges|TotalCharges|TotalCharges|TotalCharges|TotalCharges|\n",
      "+------------+------------+------------+------------+------------+------------+------------+------------+------------+------------+------------+------------+------------+------------+------------+------------+------------+------------+------------+------------+\n",
      "|        11.0|        11.0|        11.0|        11.0|        11.0|        11.0|        11.0|        11.0|        11.0|        11.0|        11.0|        11.0|        11.0|        11.0|        11.0|        11.0|        11.0|        11.0|        11.0|        11.0|\n",
      "+------------+------------+------------+------------+------------+------------+------------+------------+------------+------------+------------+------------+------------+------------+------------+------------+------------+------------+------------+------------+\n",
      "\n"
     ]
    }
   ],
   "source": [
    "# To check for missing values \n",
    "missing_values = df.select(*[sum(col('TotalCharges').isNull().cast(\"float\")).alias('TotalCharges') for column in df.columns])\n",
    "missing_values.show()"
   ]
  },
  {
   "cell_type": "code",
   "execution_count": 15,
   "id": "5e3e2714",
   "metadata": {},
   "outputs": [],
   "source": [
    "# To fill missing values with median\n",
    "from pyspark.ml.feature import Imputer\n",
    "imputer = Imputer(\n",
    "    inputCols=['TotalCharges'],\n",
    "    outputCols=[\"{}_imputed\".format('TotalCharges')]\n",
    ").setStrategy('median')\n",
    "\n",
    "# Fit the Imputer model and transform the DataFrame\n",
    "imputer_model = imputer.fit(df)\n",
    "df = imputer_model.transform(df)"
   ]
  },
  {
   "cell_type": "code",
   "execution_count": 16,
   "id": "dd6272fc",
   "metadata": {},
   "outputs": [
    {
     "name": "stdout",
     "output_type": "stream",
     "text": [
      "+----------------------+----------------------+----------------------+----------------------+----------------------+----------------------+----------------------+----------------------+----------------------+----------------------+----------------------+----------------------+----------------------+----------------------+----------------------+----------------------+----------------------+----------------------+----------------------+----------------------+----------------------+\n",
      "|TotalCharges_Imputer_m|TotalCharges_Imputer_m|TotalCharges_Imputer_m|TotalCharges_Imputer_m|TotalCharges_Imputer_m|TotalCharges_Imputer_m|TotalCharges_Imputer_m|TotalCharges_Imputer_m|TotalCharges_Imputer_m|TotalCharges_Imputer_m|TotalCharges_Imputer_m|TotalCharges_Imputer_m|TotalCharges_Imputer_m|TotalCharges_Imputer_m|TotalCharges_Imputer_m|TotalCharges_Imputer_m|TotalCharges_Imputer_m|TotalCharges_Imputer_m|TotalCharges_Imputer_m|TotalCharges_Imputer_m|TotalCharges_Imputer_m|\n",
      "+----------------------+----------------------+----------------------+----------------------+----------------------+----------------------+----------------------+----------------------+----------------------+----------------------+----------------------+----------------------+----------------------+----------------------+----------------------+----------------------+----------------------+----------------------+----------------------+----------------------+----------------------+\n",
      "|                   0.0|                   0.0|                   0.0|                   0.0|                   0.0|                   0.0|                   0.0|                   0.0|                   0.0|                   0.0|                   0.0|                   0.0|                   0.0|                   0.0|                   0.0|                   0.0|                   0.0|                   0.0|                   0.0|                   0.0|                   0.0|\n",
      "+----------------------+----------------------+----------------------+----------------------+----------------------+----------------------+----------------------+----------------------+----------------------+----------------------+----------------------+----------------------+----------------------+----------------------+----------------------+----------------------+----------------------+----------------------+----------------------+----------------------+----------------------+\n",
      "\n"
     ]
    }
   ],
   "source": [
    "missing_values = df.select(*[sum(col('TotalCharges_imputed').isNull().cast(\"float\")).alias('TotalCharges_Imputer_m') for column in df.columns])\n",
    "missing_values.show()"
   ]
  },
  {
   "cell_type": "code",
   "execution_count": 19,
   "id": "c3b2af97",
   "metadata": {},
   "outputs": [
    {
     "name": "stdout",
     "output_type": "stream",
     "text": [
      "[('gender', 'string'), ('SeniorCitizen', 'string'), ('Partner', 'string'), ('tenure', 'int'), ('PhoneService', 'string'), ('MultipleLines', 'string'), ('InternetService', 'string'), ('OnlineSecurity', 'string'), ('OnlineBackup', 'string'), ('TechSupport', 'string'), ('StreamingTV', 'string'), ('StreamingMovies', 'string'), ('Contract', 'string'), ('PaperlessBilling', 'string'), ('PaymentMethod', 'string'), ('MonthlyCharges', 'double'), ('TotalCharges', 'float'), ('numAdminTickets', 'int'), ('numTechTickets', 'int'), ('Churn', 'string'), ('TotalCharges_imputed', 'float')]\n"
     ]
    }
   ],
   "source": [
    "print(df.dtypes)"
   ]
  },
  {
   "cell_type": "code",
   "execution_count": 20,
   "id": "a36033a9",
   "metadata": {},
   "outputs": [
    {
     "name": "stdout",
     "output_type": "stream",
     "text": [
      "+------+-------------+-------+------+------------+-------------+---------------+--------------+------------+-----------+-----------+---------------+--------------+----------------+----------------+--------------+------------+---------------+--------------+-----+--------------------+\n",
      "|gender|SeniorCitizen|Partner|tenure|PhoneService|MultipleLines|InternetService|OnlineSecurity|OnlineBackup|TechSupport|StreamingTV|StreamingMovies|      Contract|PaperlessBilling|   PaymentMethod|MonthlyCharges|TotalCharges|numAdminTickets|numTechTickets|Churn|TotalCharges_imputed|\n",
      "+------+-------------+-------+------+------------+-------------+---------------+--------------+------------+-----------+-----------+---------------+--------------+----------------+----------------+--------------+------------+---------------+--------------+-----+--------------------+\n",
      "|Female|            0|    Yes|     1|          No|           No|            DSL|            No|         Yes|         No|         No|             No|Month-to-month|             Yes|Electronic check|         29.85|       29.85|              0|             0|   No|               29.85|\n",
      "|  Male|            0|     No|    34|         Yes|           No|            DSL|           Yes|          No|         No|         No|             No|      One year|              No|    Mailed check|         56.95|      1889.5|              0|             0|   No|              1889.5|\n",
      "+------+-------------+-------+------+------------+-------------+---------------+--------------+------------+-----------+-----------+---------------+--------------+----------------+----------------+--------------+------------+---------------+--------------+-----+--------------------+\n",
      "only showing top 2 rows\n",
      "\n"
     ]
    }
   ],
   "source": [
    "# To replace NO phone service to No\n",
    "df = df.replace('No phone service', 'No')\n",
    "df = df.replace('No internet service', 'No')\n",
    "df.show(2)"
   ]
  },
  {
   "cell_type": "code",
   "execution_count": 21,
   "id": "7623b440",
   "metadata": {},
   "outputs": [],
   "source": [
    "#from pyspark.sql.functions import when\n",
    "\n",
    "#df = df.withColumn('PhoneService', when(df['PhoneService'] == 'No phone service', 'No').otherwise(df['PhoneService']))\n",
    "\n",
    "#df.show()"
   ]
  },
  {
   "cell_type": "code",
   "execution_count": 21,
   "id": "abb10701",
   "metadata": {},
   "outputs": [],
   "source": [
    "# To split our test and train data\n",
    "train, test =df.randomSplit([0.75,0.25])"
   ]
  },
  {
   "cell_type": "code",
   "execution_count": 22,
   "id": "e36c44de",
   "metadata": {},
   "outputs": [],
   "source": [
    "# To select numeric columns\n",
    "numerical_features = train.columns\n",
    "numerical_features.remove('gender')\n",
    "numerical_features.remove('SeniorCitizen')\n",
    "numerical_features.remove('PhoneService')\n",
    "numerical_features.remove('MultipleLines')\n",
    "numerical_features.remove('InternetService')\n",
    "numerical_features.remove('TechSupport')\n",
    "numerical_features.remove('StreamingTV')\n",
    "numerical_features.remove('PaperlessBilling')\n",
    "numerical_features.remove('Contract')\n",
    "numerical_features.remove('PaymentMethod')\n",
    "numerical_features.remove('OnlineSecurity')\n",
    "numerical_features.remove('OnlineBackup')\n",
    "numerical_features.remove('Partner')\n",
    "numerical_features.remove('Churn')\n",
    "numerical_features.remove('StreamingMovies')\n",
    "numerical_features.remove('TotalCharges')"
   ]
  },
  {
   "cell_type": "code",
   "execution_count": 23,
   "id": "37184e66",
   "metadata": {},
   "outputs": [
    {
     "name": "stdout",
     "output_type": "stream",
     "text": [
      "['tenure', 'MonthlyCharges', 'numAdminTickets', 'numTechTickets', 'TotalCharges_imputed']\n"
     ]
    }
   ],
   "source": [
    "print(numerical_features)"
   ]
  },
  {
   "cell_type": "code",
   "execution_count": 24,
   "id": "16a7df84",
   "metadata": {},
   "outputs": [
    {
     "name": "stdout",
     "output_type": "stream",
     "text": [
      "+------+-------------+-------+------+------------+-------------+---------------+--------------+------------+-----------+-----------+---------------+--------------+----------------+--------------------+--------------+------------+---------------+--------------+-----+--------------------+-------------------------+\n",
      "|gender|SeniorCitizen|Partner|tenure|PhoneService|MultipleLines|InternetService|OnlineSecurity|OnlineBackup|TechSupport|StreamingTV|StreamingMovies|      Contract|PaperlessBilling|       PaymentMethod|MonthlyCharges|TotalCharges|numAdminTickets|numTechTickets|Churn|TotalCharges_imputed|numerical_features_vector|\n",
      "+------+-------------+-------+------+------------+-------------+---------------+--------------+------------+-----------+-----------+---------------+--------------+----------------+--------------------+--------------+------------+---------------+--------------+-----+--------------------+-------------------------+\n",
      "|Female|            0|     No|     1|          No|           No|            DSL|            No|          No|         No|         No|             No|Month-to-month|              No|Bank transfer (au...|         25.25|       25.25|              0|             0|   No|               25.25|     [1.0,25.25,0.0,0....|\n",
      "+------+-------------+-------+------+------------+-------------+---------------+--------------+------------+-----------+-----------+---------------+--------------+----------------+--------------------+--------------+------------+---------------+--------------+-----+--------------------+-------------------------+\n",
      "only showing top 1 row\n",
      "\n"
     ]
    }
   ],
   "source": [
    "from pyspark.ml.feature import VectorAssembler\n",
    "\n",
    "numerical_vector_assembler = VectorAssembler(inputCols=numerical_features, outputCol='numerical_features_vector')\n",
    "\n",
    "train = numerical_vector_assembler.transform(train)\n",
    "test = numerical_vector_assembler.transform(test)\n",
    "\n",
    "train.show(1)"
   ]
  },
  {
   "cell_type": "code",
   "execution_count": 25,
   "id": "ab8bff1c",
   "metadata": {},
   "outputs": [
    {
     "name": "stdout",
     "output_type": "stream",
     "text": [
      "+------+-------------+-------+------+------------+-------------+---------------+--------------+------------+-----------+-----------+---------------+--------------+----------------+--------------------+--------------+------------+---------------+--------------+-----+--------------------+-------------------------+--------------------------------+\n",
      "|gender|SeniorCitizen|Partner|tenure|PhoneService|MultipleLines|InternetService|OnlineSecurity|OnlineBackup|TechSupport|StreamingTV|StreamingMovies|      Contract|PaperlessBilling|       PaymentMethod|MonthlyCharges|TotalCharges|numAdminTickets|numTechTickets|Churn|TotalCharges_imputed|numerical_features_vector|scaled_numerical_features_vector|\n",
      "+------+-------------+-------+------+------------+-------------+---------------+--------------+------------+-----------+-----------+---------------+--------------+----------------+--------------------+--------------+------------+---------------+--------------+-----+--------------------+-------------------------+--------------------------------+\n",
      "|Female|            0|     No|     1|          No|           No|            DSL|            No|          No|         No|         No|             No|Month-to-month|              No|Bank transfer (au...|         25.25|       25.25|              0|             0|   No|               25.25|     [1.0,25.25,0.0,0....|            [-1.2860087573469...|\n",
      "|Female|            0|     No|     1|          No|           No|            DSL|            No|          No|         No|         No|             No|Month-to-month|              No|    Electronic check|          24.6|        24.6|              4|             0|  Yes|                24.6|     [1.0,24.6,4.0,0.0...|            [-1.2860087573469...|\n",
      "|Female|            0|     No|     1|          No|           No|            DSL|            No|          No|         No|         No|             No|Month-to-month|              No|        Mailed check|          24.4|        24.4|              0|             0|   No|                24.4|     [1.0,24.4,0.0,0.0...|            [-1.2860087573469...|\n",
      "+------+-------------+-------+------+------------+-------------+---------------+--------------+------------+-----------+-----------+---------------+--------------+----------------+--------------------+--------------+------------+---------------+--------------+-----+--------------------+-------------------------+--------------------------------+\n",
      "only showing top 3 rows\n",
      "\n"
     ]
    }
   ],
   "source": [
    "# To scale numeric features\n",
    "from pyspark.ml.feature import StandardScaler\n",
    "scaler = StandardScaler(inputCol='numerical_features_vector', outputCol='scaled_numerical_features_vector',\n",
    "                       withMean=True, withStd=True)\n",
    "scaler = scaler.fit(train)\n",
    "train = scaler.transform(train)\n",
    "test = scaler.transform(test)\n",
    "\n",
    "train.show(3)"
   ]
  },
  {
   "cell_type": "code",
   "execution_count": 26,
   "id": "1b4e2b94",
   "metadata": {},
   "outputs": [
    {
     "name": "stdout",
     "output_type": "stream",
     "text": [
      "+------------------------------------------------------------------------------------------------------+\n",
      "|scaled_numerical_features_vector                                                                      |\n",
      "+------------------------------------------------------------------------------------------------------+\n",
      "|[-1.2860087573469972,-1.3203161350835437,-0.41124114221123836,-0.3346561932383224,-1.0019135678956095]|\n",
      "|[-1.2860087573469972,-1.3419754027702782,2.6989265502985487,-0.3346561932383224,-1.0021997834036842]  |\n",
      "|[-1.2860087573469972,-1.348639792827735,-0.41124114221123836,-0.3346561932383224,-1.0022878501014916] |\n",
      "|[-1.2860087573469972,-1.3219822325979078,1.1438427040436554,-0.3346561932383224,-1.0019355841501283]  |\n",
      "|[-1.2860087573469972,-1.331978817684093,-0.41124114221123836,-0.3346561932383224,-1.0020676841968394] |\n",
      "|[-1.2860087573469972,-1.3253144276266362,-0.41124114221123836,-0.3346561932383224,-1.0019796174990319]|\n",
      "|[-1.2860087573469972,-1.3236483301122721,3.476468473425996,-0.3346561932383224,-1.0019576012445133]   |\n",
      "|[-1.2860087573469972,-1.3003229649111732,-0.41124114221123836,-0.3346561932383224,-1.0016493686420533]|\n",
      "|[-1.2860087573469972,-0.9704356570670629,-0.41124114221123836,-0.3346561932383224,-0.9972900838979109]|\n",
      "|[-1.2860087573469972,-1.1437097985609392,-0.41124114221123836,-0.3346561932383224,-0.9995798096422415]|\n",
      "|[-1.2860087573469972,-0.9654373645239704,1.1438427040436554,-0.3346561932383224,-0.9972240334546222]  |\n",
      "|[-1.2860087573469972,-1.1637029687333094,-0.41124114221123836,-0.3346561932383224,-0.9998440080559312]|\n",
      "|[-1.2860087573469972,-1.1653690662476737,2.6989265502985487,-0.3346561932383224,-0.9998660251503162]  |\n",
      "|[-1.2860087573469972,-0.6905312746538784,-0.41124114221123836,-0.3346561932383224,-0.9935912960278589]|\n",
      "|[-1.2860087573469972,-0.6971956647113351,-0.41124114221123836,-0.3346561932383224,-0.9936793627256664]|\n",
      "|[-1.2860087573469972,-0.7021939572544279,-0.41124114221123836,-0.3346561932383224,-0.9937454131689551]|\n",
      "|[-1.2860087573469972,-0.6572093243665946,-0.41124114221123836,-0.3346561932383224,-0.9931509642185543]|\n",
      "|[-1.2860087573469972,-0.6355500566798601,-0.41124114221123836,-0.3346561932383224,-0.9928647495503459]|\n",
      "|[-1.2860087573469972,-0.6971956647113351,-0.41124114221123836,-0.3346561932383224,-0.9936793627256664]|\n",
      "|[-1.2860087573469972,-0.6822007870820574,1.1438427040436554,-0.3346561932383224,-0.9934812130755328]  |\n",
      "+------------------------------------------------------------------------------------------------------+\n",
      "only showing top 20 rows\n",
      "\n"
     ]
    }
   ],
   "source": [
    "# To check the scales features\n",
    "train.select('scaled_numerical_features_vector').show(truncate=False)"
   ]
  },
  {
   "cell_type": "code",
   "execution_count": 27,
   "id": "530e03bf",
   "metadata": {},
   "outputs": [],
   "source": [
    "# To convert our caterogical features to numeric features\n",
    "from pyspark.ml.feature import StringIndexer\n",
    "\n",
    "indexer = StringIndexer(inputCols=['gender', 'SeniorCitizen', 'Partner', 'PhoneService', 'MultipleLines', 'InternetService', \n",
    "         'OnlineSecurity', 'OnlineBackup', 'TechSupport', 'StreamingTV',\n",
    "         'StreamingMovies', 'Contract', 'PaperlessBilling', 'PaymentMethod', 'Churn'], \n",
    "                        outputCols=['gender_index', 'SeniorCitizen_index', 'Partner_index', 'PhoneService_index', \n",
    "                                    'MultipleLines_index', 'InternetService_index', 'OnlineSecurity_index', 'OnlineBackup_index', \n",
    "                                    'TechSupport_index', 'StreamingTV_index', 'StreamingMovies_index', 'Contract_index', \n",
    "                                    'PaperlessBilling_index', 'PaymentMethod_index', 'Churn_index'])\n",
    "\n",
    "indexer = indexer.fit(train)\n",
    "train = indexer.transform(train)\n",
    "test = indexer.transform(test)"
   ]
  },
  {
   "cell_type": "code",
   "execution_count": 28,
   "id": "de5592ca",
   "metadata": {},
   "outputs": [
    {
     "data": {
      "text/plain": [
       "{Row(gender_index=0.0), Row(gender_index=1.0)}"
      ]
     },
     "execution_count": 28,
     "metadata": {},
     "output_type": "execute_result"
    }
   ],
   "source": [
    "# To check if they have been converted but checking the gender feature\n",
    "set(train.select('gender_index').collect())"
   ]
  },
  {
   "cell_type": "code",
   "execution_count": 29,
   "id": "194620d0",
   "metadata": {},
   "outputs": [],
   "source": [
    "# To combine multiple features to a single vector column\n",
    "from pyspark.ml.feature import VectorAssembler\n",
    "assembler = VectorAssembler(inputCols=['scaled_numerical_features_vector', 'gender_index', 'SeniorCitizen_index', 'Partner_index', 'PhoneService_index', \n",
    "                                    'MultipleLines_index', 'InternetService_index', 'OnlineSecurity_index', 'OnlineBackup_index', \n",
    "                                    'TechSupport_index', 'StreamingTV_index', 'StreamingMovies_index', 'Contract_index', \n",
    "                                    'PaperlessBilling_index', 'PaymentMethod_index'],\n",
    "                                       outputCol='finalized_data')\n",
    "\n",
    "train = assembler.transform(train)\n",
    "test = assembler.transform(test)"
   ]
  },
  {
   "cell_type": "code",
   "execution_count": 30,
   "id": "781752cb",
   "metadata": {},
   "outputs": [
    {
     "data": {
      "text/plain": [
       "[Row(finalized_data=SparseVector(19, {0: -1.286, 1: -1.3203, 2: -0.4112, 3: -0.3347, 4: -1.0019, 5: 1.0, 8: 1.0, 10: 1.0, 17: 1.0, 18: 2.0})),\n",
       " Row(finalized_data=SparseVector(19, {0: -1.286, 1: -1.342, 2: 2.6989, 3: -0.3347, 4: -1.0022, 5: 1.0, 8: 1.0, 10: 1.0, 17: 1.0}))]"
      ]
     },
     "execution_count": 30,
     "metadata": {},
     "output_type": "execute_result"
    }
   ],
   "source": [
    "train.select('finalized_data').take(2)"
   ]
  },
  {
   "cell_type": "code",
   "execution_count": 31,
   "id": "8264a71a",
   "metadata": {},
   "outputs": [],
   "source": [
    "from pyspark.ml.classification import LogisticRegression\n",
    "\n",
    "LR = LogisticRegression(featuresCol='finalized_data', labelCol='Churn_index')\n",
    "lr_model =LR.fit(train)"
   ]
  },
  {
   "cell_type": "code",
   "execution_count": 32,
   "id": "6e08b9e4",
   "metadata": {},
   "outputs": [],
   "source": [
    "pred = lr_model.transform(test)"
   ]
  },
  {
   "cell_type": "code",
   "execution_count": 33,
   "id": "3804e203",
   "metadata": {},
   "outputs": [
    {
     "name": "stdout",
     "output_type": "stream",
     "text": [
      "+-----------+----------+\n",
      "|Churn_index|prediction|\n",
      "+-----------+----------+\n",
      "|        0.0|       1.0|\n",
      "|        0.0|       1.0|\n",
      "|        1.0|       1.0|\n",
      "|        1.0|       1.0|\n",
      "|        0.0|       0.0|\n",
      "+-----------+----------+\n",
      "only showing top 5 rows\n",
      "\n"
     ]
    }
   ],
   "source": [
    "# To show prediction f our model\n",
    "pred.select(['Churn_index','prediction']).show(5)"
   ]
  },
  {
   "cell_type": "code",
   "execution_count": 34,
   "id": "5c0a157d",
   "metadata": {},
   "outputs": [
    {
     "name": "stdout",
     "output_type": "stream",
     "text": [
      "Accuracy: 0.8618346545866364\n",
      "Precision: 0.8586650410976584\n",
      "Recall: 0.8618346545866364\n",
      "F1-score: 0.8594117285901588\n"
     ]
    }
   ],
   "source": [
    "from pyspark.ml.evaluation import MulticlassClassificationEvaluator\n",
    "\n",
    "\n",
    "# Create a MulticlassClassificationEvaluator\n",
    "evaluator = MulticlassClassificationEvaluator(metricName='accuracy', labelCol='Churn_index', predictionCol='prediction')\n",
    "\n",
    "# Calculate the evaluation metric\n",
    "accuracy = evaluator.evaluate(pred)\n",
    "print(\"Accuracy:\", accuracy)\n",
    "\n",
    "\n",
    "# Precision\n",
    "precision = evaluator.setMetricName('weightedPrecision').evaluate(pred)\n",
    "print(\"Precision:\", precision)\n",
    "\n",
    "# Recall\n",
    "recall = evaluator.setMetricName('weightedRecall').evaluate(pred)\n",
    "print(\"Recall:\", recall)\n",
    "\n",
    "# F1-score\n",
    "f1_score = evaluator.setMetricName('f1').evaluate(pred)\n",
    "print(\"F1-score:\", f1_score)"
   ]
  },
  {
   "cell_type": "code",
   "execution_count": 35,
   "id": "87d7845c",
   "metadata": {},
   "outputs": [
    {
     "name": "stdout",
     "output_type": "stream",
     "text": [
      "Confusion Matrix:\n",
      "+-----------+----+---+\n",
      "|Churn_index| 0.0|1.0|\n",
      "+-----------+----+---+\n",
      "|        0.0|1183| 97|\n",
      "|        1.0| 147|339|\n",
      "+-----------+----+---+\n",
      "\n"
     ]
    }
   ],
   "source": [
    "confusion_matrix = pred.groupBy('Churn_index').pivot('prediction').count().na.fill(0)\n",
    "\n",
    "# Display the confusion matrix\n",
    "print(\"Confusion Matrix:\")\n",
    "confusion_matrix.show()"
   ]
  },
  {
   "cell_type": "code",
   "execution_count": 41,
   "id": "35f18454",
   "metadata": {},
   "outputs": [
    {
     "name": "stdout",
     "output_type": "stream",
     "text": [
      "Feature: Column<'gender'>, Importance: -1.8659852771599688\n",
      "Feature: Column<'StreamingTV'>, Importance: -1.7279379381490698\n",
      "Feature: Column<'tenure'>, Importance: 1.6884904414507846\n",
      "Feature: Column<'SeniorCitizen'>, Importance: -0.8254948229055694\n",
      "Feature: Column<'TotalCharges'>, Importance: -0.5341117096735656\n",
      "Feature: Column<'TechSupport'>, Importance: 0.47219157765554887\n",
      "Feature: Column<'StreamingMovies'>, Importance: -0.39842732488858784\n",
      "Feature: Column<'numAdminTickets'>, Importance: -0.35819890997105996\n",
      "Feature: Column<'PaymentMethod'>, Importance: 0.297423652603403\n",
      "Feature: Column<'PhoneService'>, Importance: -0.2573576225052059\n",
      "Feature: Column<'InternetService'>, Importance: 0.2517474070622676\n",
      "Feature: Column<'MonthlyCharges'>, Importance: 0.23299058882127066\n",
      "Feature: Column<'Contract'>, Importance: -0.22850375050860705\n",
      "Feature: Column<'OnlineSecurity'>, Importance: -0.12096551066373451\n",
      "Feature: Column<'numTechTickets'>, Importance: -0.11755786778143341\n",
      "Feature: Column<'Partner'>, Importance: -0.09655480916025588\n",
      "Feature: Column<'MultipleLines'>, Importance: 0.09300585952139594\n",
      "Feature: Column<'OnlineBackup'>, Importance: -0.08161029109283166\n",
      "Feature: Column<'PaperlessBilling'>, Importance: -0.04674130126893672\n"
     ]
    }
   ],
   "source": [
    "coefficients = lr_model.coefficients\n",
    "feature_importance = [(feature, coefficient) for feature, coefficient in zip(train, coefficients)]\n",
    "\n",
    "# Sort the feature importance in descending order\n",
    "sorted_feature_importance = sorted(feature_importance, key=lambda x: abs(x[1]), reverse=True)\n",
    "\n",
    "# Print the feature importance\n",
    "for feature, importance in sorted_feature_importance:\n",
    "    print(f\"Feature: {feature}, Importance: {importance}\")"
   ]
  },
  {
   "cell_type": "code",
   "execution_count": null,
   "id": "2edce7be",
   "metadata": {},
   "outputs": [],
   "source": []
  }
 ],
 "metadata": {
  "kernelspec": {
   "display_name": "Python 3 (ipykernel)",
   "language": "python",
   "name": "python3"
  },
  "language_info": {
   "codemirror_mode": {
    "name": "ipython",
    "version": 3
   },
   "file_extension": ".py",
   "mimetype": "text/x-python",
   "name": "python",
   "nbconvert_exporter": "python",
   "pygments_lexer": "ipython3",
   "version": "3.10.9"
  }
 },
 "nbformat": 4,
 "nbformat_minor": 5
}
